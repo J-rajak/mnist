{
 "cells": [
  {
   "cell_type": "code",
   "execution_count": 1,
   "metadata": {},
   "outputs": [],
   "source": [
    "import numpy as np\n",
    "import pandas as pd\n",
    "from matplotlib import pyplot as plt"
   ]
  },
  {
   "cell_type": "code",
   "execution_count": 2,
   "metadata": {},
   "outputs": [],
   "source": [
    "data = pd.read_csv(\"./train.csv\")"
   ]
  },
  {
   "cell_type": "code",
   "execution_count": 22,
   "metadata": {},
   "outputs": [],
   "source": [
    "data = np.array(data)\n",
    "m, n = data.shape\n",
    "np.random.shuffle(data) # shuffle before splitting into training and test sets\n",
    "\n",
    "data_train = data[1000:m].T\n",
    "Y_train = data_train[0]\n",
    "X_train = data_train[1:n]\n",
    "X_train = X_train / 255.\n",
    "_,m_train = X_train.shape\n",
    "\n",
    "data_test = data[0:1000].T\n",
    "Y_test = data_test[0]\n",
    "X_test = data_test[1:n]\n",
    "X_test = X_test / 255."
   ]
  },
  {
   "cell_type": "code",
   "execution_count": 10,
   "metadata": {},
   "outputs": [
    {
     "data": {
      "text/plain": [
       "array([8, 6, 2, ..., 5, 3, 9], dtype=int64)"
      ]
     },
     "execution_count": 10,
     "metadata": {},
     "output_type": "execute_result"
    }
   ],
   "source": [
    "Y_train"
   ]
  },
  {
   "cell_type": "code",
   "execution_count": 25,
   "metadata": {},
   "outputs": [
    {
     "name": "stdout",
     "output_type": "stream",
     "text": [
      "The image value is 0\n"
     ]
    },
    {
     "data": {
      "image/png": "[encoded data removed]",
      "text/plain": [
       "<Figure size 640x480 with 1 Axes>"
      ]
     },
     "metadata": {},
     "output_type": "display_data"
    }
   ],
   "source": [
    "index = 1200\n",
    "plt.imshow(data[index][1:len(data[index])].reshape(28,28))\n",
    "print(f\"The image value is {data[index][0]}\")"
   ]
  },
  {
   "cell_type": "code",
   "execution_count": 12,
   "metadata": {},
   "outputs": [],
   "source": [
    "import numpy as np\n",
    "\n",
    "def init_params():\n",
    "    W1 = np.random.rand(10, 784) - 0.5\n",
    "    b1 = np.zeros((10, 1))  # Assuming 10 neurons in the first layer\n",
    "    W2 = np.random.rand(10, 10) - 0.5  # Assuming 10 neurons in the second layer\n",
    "    b2 = np.zeros((10, 1))\n",
    "    return W1, b1, W2, b2\n",
    "\n",
    "def ReLU(Z):\n",
    "    return np.maximum(0, Z)\n",
    "\n",
    "def softmax(Z):\n",
    "    exp_Z = np.exp(Z - np.max(Z, axis=0, keepdims=True))\n",
    "    A = exp_Z / np.sum(exp_Z, axis=0, keepdims=True)\n",
    "    return A\n",
    "\n",
    "def ReLU_deriv(Z):\n",
    "    return (Z > 0).astype(float)\n",
    "\n",
    "def one_hot(Y):\n",
    "    one_hot_Y = np.zeros((Y.size, Y.max() + 1))\n",
    "    one_hot_Y[np.arange(Y.size), Y] = 1\n",
    "    one_hot_Y = one_hot_Y.T\n",
    "    return one_hot_Y\n"
   ]
  },
  {
   "cell_type": "code",
   "execution_count": 13,
   "metadata": {},
   "outputs": [],
   "source": [
    "def forward_prop(W1, b1, W2, b2, X):\n",
    "    Z1 = np.dot(W1, X) + b1\n",
    "    A1 = ReLU(Z1)\n",
    "    Z2 = np.dot(W2, A1) + b2\n",
    "    A2 = softmax(Z2)\n",
    "    return Z1, A1, Z2, A2\n"
   ]
  },
  {
   "cell_type": "code",
   "execution_count": 14,
   "metadata": {},
   "outputs": [],
   "source": [
    "def backward_prop(Z1, A1, Z2, A2, W1, W2, X, Y):\n",
    "    one_hot_Y = one_hot(Y)\n",
    "    dZ2 = A2 - one_hot_Y\n",
    "    dW2 = 1 / X.shape[1] * np.dot(dZ2, A1.T)\n",
    "    db2 = 1 / X.shape[1] * np.sum(dZ2, axis=1, keepdims=True)\n",
    "    dZ1 = np.dot(W2.T, dZ2) * ReLU_deriv(Z1)\n",
    "    dW1 = 1 / X.shape[1] * np.dot(dZ1, X.T)\n",
    "    db1 = 1 / X.shape[1] * np.sum(dZ1, axis=1, keepdims=True)\n",
    "    return dW1, db1, dW2, db2\n"
   ]
  },
  {
   "cell_type": "code",
   "execution_count": 15,
   "metadata": {},
   "outputs": [],
   "source": [
    "def update_params(W1, b1, W2, b2, dW1, db1, dW2, db2, alpha):\n",
    "    W1 = W1 - alpha * dW1\n",
    "    b1 = b1 - alpha * db1\n",
    "    W2 = W2 - alpha * dW2\n",
    "    b2 = b2 - alpha * db2\n",
    "    return W1, b1, W2, b2\n"
   ]
  },
  {
   "cell_type": "code",
   "execution_count": 16,
   "metadata": {},
   "outputs": [],
   "source": [
    "def get_predictions(A2):\n",
    "    return np.argmax(A2, 0)\n",
    "\n",
    "def get_accuracy(predictions, Y):\n",
    "    print(predictions, Y)\n",
    "    return np.sum(predictions == Y) / Y.size\n",
    "\n",
    "def gradient_descent(X, Y, alpha, iterations):\n",
    "    W1, b1, W2, b2 = init_params()\n",
    "    for i in range(iterations):\n",
    "        Z1, A1, Z2, A2 = forward_prop(W1, b1, W2, b2, X)\n",
    "        dW1, db1, dW2, db2 = backward_prop(Z1, A1, Z2, A2, W1, W2, X, Y)\n",
    "        W1, b1, W2, b2 = update_params(W1, b1, W2, b2, dW1, db1, dW2, db2, alpha)\n",
    "        if i % 10 == 0:\n",
    "            print(\"Iteration:\", i)\n",
    "            predictions = get_predictions(A2)\n",
    "            print(\"Accuracy:\", get_accuracy(predictions, Y))\n",
    "    return W1, b1, W2, b2\n"
   ]
  },
  {
   "cell_type": "code",
   "execution_count": 17,
   "metadata": {},
   "outputs": [
    {
     "name": "stdout",
     "output_type": "stream",
     "text": [
      "Iteration: 0\n",
      "[5 5 0 ... 7 4 6] [8 6 2 ... 5 3 9]\n",
      "Accuracy: 0.06260975609756098\n",
      "Iteration: 10\n",
      "[7 6 0 ... 7 7 4] [8 6 2 ... 5 3 9]\n",
      "Accuracy: 0.16726829268292684\n",
      "Iteration: 20\n",
      "[7 6 8 ... 7 7 4] [8 6 2 ... 5 3 9]\n",
      "Accuracy: 0.2678048780487805\n",
      "Iteration: 30\n",
      "[9 6 8 ... 7 7 4] [8 6 2 ... 5 3 9]\n",
      "Accuracy: 0.3581951219512195\n",
      "Iteration: 40\n",
      "[4 6 8 ... 7 7 7] [8 6 2 ... 5 3 9]\n",
      "Accuracy: 0.4297073170731707\n",
      "Iteration: 50\n",
      "[4 6 8 ... 9 7 9] [8 6 2 ... 5 3 9]\n",
      "Accuracy: 0.48929268292682926\n",
      "Iteration: 60\n",
      "[8 6 8 ... 8 7 4] [8 6 2 ... 5 3 9]\n",
      "Accuracy: 0.5386585365853659\n",
      "Iteration: 70\n",
      "[8 6 8 ... 8 7 4] [8 6 2 ... 5 3 9]\n",
      "Accuracy: 0.5793658536585365\n",
      "Iteration: 80\n",
      "[8 6 8 ... 8 7 4] [8 6 2 ... 5 3 9]\n",
      "Accuracy: 0.6141707317073171\n",
      "Iteration: 90\n",
      "[8 6 8 ... 8 7 4] [8 6 2 ... 5 3 9]\n",
      "Accuracy: 0.642\n",
      "Iteration: 100\n",
      "[8 6 2 ... 8 7 4] [8 6 2 ... 5 3 9]\n",
      "Accuracy: 0.6646585365853659\n",
      "Iteration: 110\n",
      "[8 6 2 ... 8 3 4] [8 6 2 ... 5 3 9]\n",
      "Accuracy: 0.6844878048780488\n",
      "Iteration: 120\n",
      "[8 6 2 ... 8 3 4] [8 6 2 ... 5 3 9]\n",
      "Accuracy: 0.7003658536585365\n",
      "Iteration: 130\n",
      "[8 6 2 ... 8 3 4] [8 6 2 ... 5 3 9]\n",
      "Accuracy: 0.7140243902439024\n",
      "Iteration: 140\n",
      "[8 6 2 ... 5 3 4] [8 6 2 ... 5 3 9]\n",
      "Accuracy: 0.7249268292682927\n",
      "Iteration: 150\n",
      "[8 6 2 ... 5 3 4] [8 6 2 ... 5 3 9]\n",
      "Accuracy: 0.7350487804878049\n",
      "Iteration: 160\n",
      "[8 6 2 ... 5 3 4] [8 6 2 ... 5 3 9]\n",
      "Accuracy: 0.7444390243902439\n",
      "Iteration: 170\n",
      "[8 6 2 ... 5 3 9] [8 6 2 ... 5 3 9]\n",
      "Accuracy: 0.7534146341463415\n",
      "Iteration: 180\n",
      "[8 6 2 ... 5 3 9] [8 6 2 ... 5 3 9]\n",
      "Accuracy: 0.7615121951219512\n",
      "Iteration: 190\n",
      "[8 6 2 ... 5 3 9] [8 6 2 ... 5 3 9]\n",
      "Accuracy: 0.7676829268292683\n",
      "Iteration: 200\n",
      "[8 6 2 ... 5 3 9] [8 6 2 ... 5 3 9]\n",
      "Accuracy: 0.7734146341463415\n",
      "Iteration: 210\n",
      "[8 6 2 ... 5 3 9] [8 6 2 ... 5 3 9]\n",
      "Accuracy: 0.779390243902439\n",
      "Iteration: 220\n",
      "[8 6 2 ... 5 3 9] [8 6 2 ... 5 3 9]\n",
      "Accuracy: 0.7850731707317073\n",
      "Iteration: 230\n",
      "[8 6 2 ... 5 3 9] [8 6 2 ... 5 3 9]\n",
      "Accuracy: 0.7904146341463415\n",
      "Iteration: 240\n",
      "[8 6 2 ... 5 3 9] [8 6 2 ... 5 3 9]\n",
      "Accuracy: 0.7942439024390244\n",
      "Iteration: 250\n",
      "[8 6 2 ... 5 3 9] [8 6 2 ... 5 3 9]\n",
      "Accuracy: 0.7985853658536586\n",
      "Iteration: 260\n",
      "[8 6 2 ... 5 3 9] [8 6 2 ... 5 3 9]\n",
      "Accuracy: 0.8027073170731708\n",
      "Iteration: 270\n",
      "[8 6 2 ... 5 3 9] [8 6 2 ... 5 3 9]\n",
      "Accuracy: 0.806829268292683\n",
      "Iteration: 280\n",
      "[8 6 2 ... 5 3 9] [8 6 2 ... 5 3 9]\n",
      "Accuracy: 0.8103414634146342\n",
      "Iteration: 290\n",
      "[8 6 2 ... 5 3 9] [8 6 2 ... 5 3 9]\n",
      "Accuracy: 0.8138536585365853\n",
      "Iteration: 300\n",
      "[8 6 2 ... 5 3 9] [8 6 2 ... 5 3 9]\n",
      "Accuracy: 0.8175365853658536\n",
      "Iteration: 310\n",
      "[8 6 2 ... 5 3 9] [8 6 2 ... 5 3 9]\n",
      "Accuracy: 0.8207317073170731\n",
      "Iteration: 320\n",
      "[8 6 2 ... 5 5 9] [8 6 2 ... 5 3 9]\n",
      "Accuracy: 0.8234878048780487\n",
      "Iteration: 330\n",
      "[8 6 2 ... 5 5 9] [8 6 2 ... 5 3 9]\n",
      "Accuracy: 0.8261219512195122\n",
      "Iteration: 340\n",
      "[8 6 2 ... 5 5 9] [8 6 2 ... 5 3 9]\n",
      "Accuracy: 0.8287073170731707\n",
      "Iteration: 350\n",
      "[8 6 2 ... 5 5 9] [8 6 2 ... 5 3 9]\n",
      "Accuracy: 0.8309512195121951\n",
      "Iteration: 360\n",
      "[8 6 2 ... 5 5 9] [8 6 2 ... 5 3 9]\n",
      "Accuracy: 0.8332926829268292\n",
      "Iteration: 370\n",
      "[8 6 2 ... 5 5 9] [8 6 2 ... 5 3 9]\n",
      "Accuracy: 0.8356585365853658\n",
      "Iteration: 380\n",
      "[8 6 2 ... 5 5 9] [8 6 2 ... 5 3 9]\n",
      "Accuracy: 0.8378048780487805\n",
      "Iteration: 390\n",
      "[8 6 2 ... 5 5 9] [8 6 2 ... 5 3 9]\n",
      "Accuracy: 0.8401463414634146\n",
      "Iteration: 400\n",
      "[8 6 2 ... 5 5 9] [8 6 2 ... 5 3 9]\n",
      "Accuracy: 0.8421463414634146\n",
      "Iteration: 410\n",
      "[8 6 2 ... 5 5 9] [8 6 2 ... 5 3 9]\n",
      "Accuracy: 0.8436585365853658\n",
      "Iteration: 420\n",
      "[8 6 2 ... 5 5 9] [8 6 2 ... 5 3 9]\n",
      "Accuracy: 0.8451219512195122\n",
      "Iteration: 430\n",
      "[8 6 2 ... 5 5 9] [8 6 2 ... 5 3 9]\n",
      "Accuracy: 0.8465365853658536\n",
      "Iteration: 440\n",
      "[8 6 2 ... 5 5 9] [8 6 2 ... 5 3 9]\n",
      "Accuracy: 0.8478536585365853\n",
      "Iteration: 450\n",
      "[8 6 2 ... 5 5 9] [8 6 2 ... 5 3 9]\n",
      "Accuracy: 0.8491463414634146\n",
      "Iteration: 460\n",
      "[8 6 2 ... 5 5 9] [8 6 2 ... 5 3 9]\n",
      "Accuracy: 0.8502926829268292\n",
      "Iteration: 470\n",
      "[8 6 2 ... 5 5 9] [8 6 2 ... 5 3 9]\n",
      "Accuracy: 0.8515609756097561\n",
      "Iteration: 480\n",
      "[8 6 2 ... 5 5 9] [8 6 2 ... 5 3 9]\n",
      "Accuracy: 0.8531951219512195\n",
      "Iteration: 490\n",
      "[8 6 2 ... 5 5 9] [8 6 2 ... 5 3 9]\n",
      "Accuracy: 0.8542682926829268\n"
     ]
    }
   ],
   "source": [
    "W1, b1, W2, b2 = gradient_descent(X_train, Y_train, 0.10, 500)"
   ]
  },
  {
   "cell_type": "code",
   "execution_count": 18,
   "metadata": {},
   "outputs": [],
   "source": [
    "def make_predictions(X, W1, b1, W2, b2):\n",
    "    _, _, _, A2 = forward_prop(W1, b1, W2, b2, X)\n",
    "    predictions = get_predictions(A2)\n",
    "    return predictions\n",
    "\n",
    "def test_prediction(index, W1, b1, W2, b2):\n",
    "    current_image = X_train[:, index, None]\n",
    "    prediction = make_predictions(X_train[:, index, None], W1, b1, W2, b2)\n",
    "    label = Y_train[index]\n",
    "    print(\"Prediction: \", prediction)\n",
    "    print(\"Label: \", label)\n",
    "\n",
    "    current_image = current_image.reshape((28, 28)) * 255\n",
    "    plt.imshow(current_image, interpolation='nearest')\n",
    "    plt.show()"
   ]
  },
  {
   "cell_type": "code",
   "execution_count": 19,
   "metadata": {},
   "outputs": [
    {
     "name": "stdout",
     "output_type": "stream",
     "text": [
      "Prediction:  [8]\n",
      "Label:  8\n"
     ]
    },
    {
     "data": {
      "image/png": "[encoded data removed]",
      "text/plain": [
       "<Figure size 640x480 with 1 Axes>"
      ]
     },
     "metadata": {},
     "output_type": "display_data"
    },
    {
     "name": "stdout",
     "output_type": "stream",
     "text": [
      "Prediction:  [6]\n",
      "Label:  6\n"
     ]
    },
    {
     "data": {
      "image/png": "[encoded data removed]",
      "text/plain": [
       "<Figure size 640x480 with 1 Axes>"
      ]
     },
     "metadata": {},
     "output_type": "display_data"
    },
    {
     "name": "stdout",
     "output_type": "stream",
     "text": [
      "Prediction:  [2]\n",
      "Label:  2\n"
     ]
    },
    {
     "data": {
      "image/png": "[encoded data removed]",
      "text/plain": [
       "<Figure size 640x480 with 1 Axes>"
      ]
     },
     "metadata": {},
     "output_type": "display_data"
    },
    {
     "name": "stdout",
     "output_type": "stream",
     "text": [
      "Prediction:  [8]\n",
      "Label:  2\n"
     ]
    },
    {
     "data": {
      "image/png": "[encoded data removed]",
      "text/plain": [
       "<Figure size 640x480 with 1 Axes>"
      ]
     },
     "metadata": {},
     "output_type": "display_data"
    }
   ],
   "source": [
    "test_prediction(0, W1, b1, W2, b2)\n",
    "test_prediction(1, W1, b1, W2, b2)\n",
    "test_prediction(2, W1, b1, W2, b2)\n",
    "test_prediction(3, W1, b1, W2, b2)"
   ]
  },
  {
   "cell_type": "code",
   "execution_count": 20,
   "metadata": {},
   "outputs": [
    {
     "name": "stdout",
     "output_type": "stream",
     "text": [
      "[8 7 3 1 1 7 4 1 0 8 9 4 7 6 7 5 3 4 8 1 2 4 3 6 3 8 1 1 3 8 9 5 1 9 1 6 0\n",
      " 2 6 4 0 6 5 7 1 6 1 4 6 8 1 0 3 8 7 3 1 2 3 4 4 2 3 7 5 8 0 0 7 0 2 4 1 0\n",
      " 7 3 3 4 5 7 7 4 4 2 4 8 9 1 9 1 2 2 7 0 3 8 9 0 5 5 3 0 6 2 6 4 2 9 4 6 2\n",
      " 1 8 0 3 8 4 7 2 9 7 3 5 4 7 6 0 1 8 5 1 1 4 8 5 4 8 9 6 3 1 6 2 3 9 6 7 9\n",
      " 4 9 3 7 6 6 2 7 2 4 3 8 2 0 6 1 4 8 6 6 6 3 1 8 8 7 0 1 5 9 3 2 0 1 0 3 6\n",
      " 7 9 6 5 0 1 3 3 7 4 5 3 7 8 4 9 6 1 3 1 3 9 4 6 2 4 4 3 0 4 9 4 1 3 9 3 2\n",
      " 0 9 2 8 6 5 1 6 8 1 1 1 3 5 1 6 3 3 9 9 2 0 0 5 3 2 2 5 0 0 0 5 6 8 1 1 3\n",
      " 9 2 3 1 1 8 1 8 7 1 7 1 2 4 9 5 1 7 3 3 2 2 9 4 4 4 8 5 0 7 1 9 6 9 2 2 5\n",
      " 6 2 9 6 5 1 5 6 0 2 9 2 7 7 7 5 5 7 5 3 1 8 2 4 4 8 7 0 3 5 4 9 7 2 9 3 8\n",
      " 7 3 4 8 4 0 3 1 4 4 0 1 6 6 9 4 3 6 8 6 1 7 9 2 5 3 4 3 4 8 1 3 8 1 4 2 2\n",
      " 1 7 1 2 0 3 2 8 0 8 5 4 8 9 5 5 2 3 0 1 8 9 5 6 8 3 3 7 3 3 9 6 7 4 4 1 9\n",
      " 1 9 2 0 3 7 6 5 0 7 2 0 8 2 1 7 4 8 1 1 7 1 7 8 4 1 9 1 7 6 7 9 9 6 7 3 9\n",
      " 9 8 6 3 7 3 3 9 9 9 9 4 6 8 8 4 7 5 3 2 6 0 0 7 6 6 9 3 9 5 1 7 3 4 0 8 1\n",
      " 1 6 4 5 3 1 7 1 9 2 5 9 2 0 6 7 7 2 0 8 1 0 5 7 1 7 1 7 9 2 4 0 8 8 9 2 9\n",
      " 6 5 7 1 7 3 9 0 2 9 3 7 1 4 3 9 9 0 1 1 5 3 1 0 3 1 9 5 8 9 7 2 6 8 6 7 8\n",
      " 0 1 0 5 4 3 4 2 5 0 8 0 0 1 3 4 8 6 6 9 6 0 9 3 2 3 8 9 9 6 0 0 2 2 4 5 7\n",
      " 9 1 1 1 2 3 7 9 0 6 8 8 8 1 0 0 8 2 1 0 1 2 8 7 5 0 8 2 3 8 8 0 1 8 1 9 4\n",
      " 9 0 3 5 4 5 9 4 0 3 6 8 8 1 6 0 4 6 7 4 5 7 1 2 8 1 1 7 1 6 3 8 4 1 2 7 5\n",
      " 2 0 0 3 7 6 8 9 8 9 9 6 2 6 5 9 9 0 2 4 4 5 2 5 1 6 6 0 2 6 3 8 1 3 8 7 6\n",
      " 4 7 8 1 6 7 4 4 7 9 1 8 4 2 1 9 5 7 0 6 7 0 1 7 5 3 6 9 4 1 9 8 3 4 9 1 0\n",
      " 4 0 3 0 4 7 4 2 4 6 1 9 5 3 7 3 1 3 8 8 0 6 6 3 9 4 8 2 1 8 3 9 8 7 0 5 9\n",
      " 3 6 7 4 5 4 1 5 7 8 5 8 1 8 0 6 1 4 0 6 5 3 2 0 3 7 0 1 8 6 7 3 8 4 1 4 0\n",
      " 9 8 9 7 8 5 4 4 1 7 9 5 9 5 6 3 0 6 1 0 6 8 2 9 0 9 1 3 8 3 9 6 4 3 8 4 1\n",
      " 0 5 0 4 1 2 3 2 7 1 5 8 9 6 8 5 2 8 9 2 1 8 2 1 6 2 6 1 3 3 9 9 3 9 5 6 4\n",
      " 0 3 1 3 5 4 1 3 6 3 5 0 2 1 3 7 9 7 6 3 6 6 1 3 8 2 0 2 4 0 9 2 8 8 1 0 7\n",
      " 7 8 7 5 2 7 6 5 7 0 0 6 5 0 4 3 5 8 9 4 0 1 0 1 3 5 5 4 5 3 1 3 5 5 4 5 1\n",
      " 2 2 7 3 6 2 9 7 7 3 2 5 1 3 6 6 4 2 8 3 9 0 2 0 9 3 7 2 0 5 5 9 0 6 6 8 4\n",
      " 9] [8 7 5 4 1 7 4 1 0 8 9 9 7 4 7 8 3 9 8 2 2 4 3 6 3 1 1 1 3 8 9 5 2 9 1 6 0\n",
      " 2 6 4 0 6 5 7 1 6 1 4 6 8 1 0 3 2 7 3 1 2 3 4 4 2 5 9 5 8 0 0 7 0 2 4 2 0\n",
      " 8 3 3 4 5 7 7 4 9 2 4 8 9 1 4 1 2 2 7 0 3 2 9 0 5 5 3 0 6 2 6 4 2 9 4 6 2\n",
      " 1 1 0 3 8 4 7 5 9 7 3 5 4 9 6 0 1 1 5 1 1 4 8 5 4 8 9 6 3 5 6 2 3 9 6 7 9\n",
      " 4 9 3 7 6 6 2 7 2 4 3 8 2 0 4 1 4 8 6 6 6 3 1 8 8 7 0 1 5 9 2 2 7 1 0 3 6\n",
      " 7 9 6 5 0 1 3 3 6 4 5 3 7 2 9 9 6 1 5 1 7 9 4 6 2 4 4 2 0 4 9 4 1 5 9 3 2\n",
      " 0 4 2 8 6 5 1 6 3 1 1 1 3 5 1 6 3 3 9 7 2 0 0 5 3 2 2 5 0 0 0 5 6 8 1 1 3\n",
      " 9 2 3 1 1 3 1 8 7 1 7 1 2 4 9 5 4 7 3 3 2 2 9 4 4 9 2 5 0 7 1 9 4 9 2 2 6\n",
      " 6 2 7 6 3 1 5 6 0 2 9 2 7 9 7 6 5 7 6 3 1 2 2 6 4 8 7 0 2 5 4 9 7 2 9 3 8\n",
      " 7 3 4 8 4 0 3 1 4 4 0 1 6 5 9 4 3 6 8 6 1 7 9 7 5 3 9 3 4 8 5 3 8 1 4 2 2\n",
      " 1 7 1 2 5 5 6 8 0 5 9 9 8 9 5 8 2 3 6 1 8 9 5 6 8 3 3 7 3 3 9 6 7 4 4 1 7\n",
      " 1 9 2 0 3 7 6 5 0 7 2 0 8 2 1 7 4 3 1 2 9 1 9 8 4 1 9 1 7 6 7 9 9 6 7 3 9\n",
      " 9 8 6 0 7 3 3 9 9 9 9 4 2 8 6 4 2 5 2 2 6 0 0 7 6 2 4 3 9 3 1 7 3 4 0 9 1\n",
      " 1 6 4 5 3 1 7 8 7 2 5 9 2 0 6 7 7 2 0 8 1 0 5 7 1 7 1 7 9 2 4 0 5 8 1 3 4\n",
      " 6 3 7 2 7 3 5 0 2 9 3 7 1 4 3 9 9 5 1 1 5 5 1 0 3 1 9 5 8 9 7 2 6 8 0 7 8\n",
      " 0 1 0 5 4 3 4 6 0 0 8 0 0 1 3 4 8 6 6 2 6 0 8 3 2 5 8 9 9 6 0 0 2 2 4 5 9\n",
      " 9 1 1 1 2 3 7 9 0 6 8 8 8 1 0 0 1 2 1 0 1 2 6 9 8 0 8 2 3 8 8 0 1 8 8 9 4\n",
      " 9 8 3 5 4 8 9 4 0 3 6 8 8 1 6 0 9 6 7 4 5 9 1 2 8 1 1 7 1 6 3 9 4 1 2 7 5\n",
      " 2 0 0 3 7 6 8 9 8 7 8 6 2 6 5 9 9 0 2 4 4 5 2 5 1 6 2 0 2 6 1 8 1 3 8 7 6\n",
      " 4 7 8 1 6 7 4 4 7 9 1 8 4 2 1 9 5 7 0 6 7 0 1 7 5 3 6 9 6 1 9 8 5 4 9 1 6\n",
      " 4 0 3 0 4 7 9 2 4 6 1 9 5 3 7 3 1 8 8 1 0 6 6 3 9 4 8 4 1 1 3 9 2 7 0 5 4\n",
      " 3 6 7 4 6 4 1 5 7 8 5 8 1 8 0 6 1 4 0 5 5 3 2 0 3 7 0 1 8 5 7 3 7 7 1 4 0\n",
      " 9 8 9 7 8 5 4 9 1 7 9 5 9 5 6 3 0 6 1 0 6 8 2 9 0 9 1 3 8 3 9 6 4 5 8 4 1\n",
      " 0 5 0 4 1 2 8 4 7 1 5 8 9 6 2 5 2 3 9 2 4 8 5 1 6 2 6 1 3 3 4 9 3 9 4 6 4\n",
      " 0 5 1 7 5 4 4 3 6 3 5 0 2 1 3 7 4 7 6 3 6 1 1 5 8 2 0 2 4 0 9 2 8 8 1 0 7\n",
      " 7 8 7 5 2 7 6 5 7 0 0 6 8 0 4 3 5 8 9 2 0 1 0 1 3 5 5 4 5 3 1 5 8 5 4 5 1\n",
      " 2 2 7 3 6 2 9 7 7 5 2 5 1 3 6 6 6 2 8 3 9 0 2 0 9 3 7 2 0 3 3 7 4 6 6 8 4\n",
      " 9]\n"
     ]
    },
    {
     "data": {
      "text/plain": [
       "0.852"
      ]
     },
     "execution_count": 20,
     "metadata": {},
     "output_type": "execute_result"
    }
   ],
   "source": [
    "test_predictions = make_predictions(X_test, W1, b1, W2, b2)\n",
    "get_accuracy(test_predictions, Y_test)"
   ]
  }
 ],
 "metadata": {
  "kernelspec": {
   "display_name": "Python 3",
   "language": "python",
   "name": "python3"
  },
  "language_info": {
   "codemirror_mode": {
    "name": "ipython",
    "version": 3
   },
   "file_extension": ".py",
   "mimetype": "text/x-python",
   "name": "python",
   "nbconvert_exporter": "python",
   "pygments_lexer": "ipython3",
   "version": "undefined.undefined.undefined"
  }
 },
 "nbformat": 4,
 "nbformat_minor": 2
}
